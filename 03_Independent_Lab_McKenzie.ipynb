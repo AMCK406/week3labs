{
 "cells": [
  {
   "cell_type": "markdown",
   "id": "41240063-8809-44e4-801d-b3dacc091686",
   "metadata": {},
   "source": [
    "# UM MSBA | Spring 2025 | Alex McKenzie\n",
    "# BGEN 632 | Week 3 Independent Lab"
   ]
  },
  {
   "cell_type": "code",
   "execution_count": 1,
   "id": "c9801118-2101-41f3-a505-be828a671a04",
   "metadata": {},
   "outputs": [
    {
     "name": "stdout",
     "output_type": "stream",
     "text": [
      "Welcome! This kiosk sells movie tickets and concessions for your cinematic experience.\n",
      "Please place your order by selecting the product and specifying the quantity desired.\n",
      "\n",
      "Here are the options:\n",
      "\n",
      "| 1 | Standard Movie Ticket     | $ 12.00 |\n",
      "| 2 | 3D Movie Ticket           | $ 15.00 |\n",
      "| 3 | IMAX Ticket               | $ 20.00 |\n",
      "| 4 | Popcorn Combo             | $  8.50 |\n",
      "| 5 | Soft Drink                | $  3.00 |\n"
     ]
    }
   ],
   "source": [
    "product1_name = \"Standard Movie Ticket\"\n",
    "product1_price = 12.00\n",
    "\n",
    "product2_name = \"3D Movie Ticket\"\n",
    "product2_price = 15.00\n",
    "\n",
    "product3_name = \"IMAX Ticket\"\n",
    "product3_price = 20.00\n",
    "\n",
    "product4_name = \"Popcorn Combo\"\n",
    "product4_price = 8.50\n",
    "\n",
    "product5_name = \"Soft Drink\"\n",
    "product5_price = 3.00\n",
    "\n",
    "print(\"Welcome! This kiosk sells movie tickets and concessions for your cinematic experience.\")\n",
    "print(\"Please place your order by selecting the product and specifying the quantity desired.\\n\")\n",
    "print(\"Here are the options:\\n\")\n",
    "print(f\"| 1 | {product1_name:25} | ${product1_price:6.2f} |\")\n",
    "print(f\"| 2 | {product2_name:25} | ${product2_price:6.2f} |\")\n",
    "print(f\"| 3 | {product3_name:25} | ${product3_price:6.2f} |\")\n",
    "print(f\"| 4 | {product4_name:25} | ${product4_price:6.2f} |\")\n",
    "print(f\"| 5 | {product5_name:25} | ${product5_price:6.2f} |\")"
   ]
  },
  {
   "cell_type": "code",
   "execution_count": 2,
   "id": "3faf6e40-6995-4a05-ba05-8b5808b93ac7",
   "metadata": {},
   "outputs": [
    {
     "name": "stdin",
     "output_type": "stream",
     "text": [
      "What would you like to purchase? (Enter the product number, or 'done' to finish):\n",
      " 6\n"
     ]
    },
    {
     "name": "stdout",
     "output_type": "stream",
     "text": [
      "That is not an option. Please try again.\n"
     ]
    },
    {
     "name": "stdin",
     "output_type": "stream",
     "text": [
      "What would you like to purchase? (Enter the product number, or 'done' to finish):\n",
      " 8\n"
     ]
    },
    {
     "name": "stdout",
     "output_type": "stream",
     "text": [
      "That is not an option. Please try again.\n"
     ]
    },
    {
     "name": "stdin",
     "output_type": "stream",
     "text": [
      "What would you like to purchase? (Enter the product number, or 'done' to finish):\n",
      " 4\n",
      "How many would you like to purchase?\n",
      " 4\n"
     ]
    },
    {
     "name": "stdout",
     "output_type": "stream",
     "text": [
      "You want 4 of Popcorn Combo.\n",
      "The current total for your order is $ 34.00\n",
      "\n"
     ]
    },
    {
     "name": "stdin",
     "output_type": "stream",
     "text": [
      "What would you like to purchase? (Enter the product number, or 'done' to finish):\n",
      " 2\n",
      "How many would you like to purchase?\n",
      " 1\n"
     ]
    },
    {
     "name": "stdout",
     "output_type": "stream",
     "text": [
      "You want 1 of 3D Movie Ticket.\n",
      "The current total for your order is $ 49.00\n",
      "\n"
     ]
    },
    {
     "name": "stdin",
     "output_type": "stream",
     "text": [
      "What would you like to purchase? (Enter the product number, or 'done' to finish):\n",
      " done\n"
     ]
    },
    {
     "name": "stdout",
     "output_type": "stream",
     "text": [
      "\n",
      "Here is a summary of your final order:\n",
      "\n",
      "| Product                        | Quantity |\n",
      "| Standard Movie Ticket          |        0 |\n",
      "| 3D Movie Ticket                |        1 |\n",
      "| IMAX Ticket                    |        0 |\n",
      "| Popcorn Combo                  |        4 |\n",
      "| Soft Drink                     |        0 |\n",
      "\n",
      "The total cost for your order is $ 49.00\n"
     ]
    }
   ],
   "source": [
    "order_quantities = {1: 0, 2: 0, 3: 0, 4: 0, 5: 0}\n",
    "order_total = 0.0\n",
    "while True:\n",
    "    choice = input(\"What would you like to purchase? (Enter the product number, or 'done' to finish):\\n\")\n",
    "    if choice.lower() == \"done\":\n",
    "        break\n",
    "    try:\n",
    "        choice = int(choice)\n",
    "    except:\n",
    "        print(\"That is not an option. Please try again.\")\n",
    "        continue\n",
    "    if choice not in [1, 2, 3, 4, 5]:\n",
    "        print(\"That is not an option. Please try again.\")\n",
    "        continue\n",
    "    try:\n",
    "        qty = int(input(\"How many would you like to purchase?\\n\"))\n",
    "    except:\n",
    "        print(\"That is not an option. Please try again.\")\n",
    "        continue\n",
    "    if choice == 1:\n",
    "        product_name = product1_name\n",
    "        product_price = product1_price\n",
    "    elif choice == 2:\n",
    "        product_name = product2_name\n",
    "        product_price = product2_price\n",
    "    elif choice == 3:\n",
    "        product_name = product3_name\n",
    "        product_price = product3_price\n",
    "    elif choice == 4:\n",
    "        product_name = product4_name\n",
    "        product_price = product4_price\n",
    "    elif choice == 5:\n",
    "        product_name = product5_name\n",
    "        product_price = product5_price\n",
    "    order_quantities[choice] += qty\n",
    "    order_total += qty * product_price\n",
    "    print(f\"You want {order_quantities[choice]} of {product_name}.\")\n",
    "    print(f\"The current total for your order is ${order_total:6.2f}\\n\")\n",
    "print(\"\\nHere is a summary of your final order:\\n\")\n",
    "print(\"| Product                        | Quantity |\")\n",
    "print(f\"| {product1_name:30} | {order_quantities[1]:8} |\")\n",
    "print(f\"| {product2_name:30} | {order_quantities[2]:8} |\")\n",
    "print(f\"| {product3_name:30} | {order_quantities[3]:8} |\")\n",
    "print(f\"| {product4_name:30} | {order_quantities[4]:8} |\")\n",
    "print(f\"| {product5_name:30} | {order_quantities[5]:8} |\")\n",
    "print(f\"\\nThe total cost for your order is ${order_total:6.2f}\")\n"
   ]
  },
  {
   "cell_type": "markdown",
   "id": "c4f71ee4-1229-4165-a37c-dd8b8023b9a6",
   "metadata": {},
   "source": [
    "# I used ChatGPT o3-mini-high for completion of this assignment. I have uploaded a PDF of the chat to my fork in Github. -Alex"
   ]
  }
 ],
 "metadata": {
  "kernelspec": {
   "display_name": "Python 3 (ipykernel)",
   "language": "python",
   "name": "python3"
  },
  "language_info": {
   "codemirror_mode": {
    "name": "ipython",
    "version": 3
   },
   "file_extension": ".py",
   "mimetype": "text/x-python",
   "name": "python",
   "nbconvert_exporter": "python",
   "pygments_lexer": "ipython3",
   "version": "3.12.7"
  }
 },
 "nbformat": 4,
 "nbformat_minor": 5
}
