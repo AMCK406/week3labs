{
 "cells": [
  {
   "cell_type": "markdown",
   "id": "a449c24b-24a1-4dec-b0f9-c8faee9903a2",
   "metadata": {},
   "source": [
    "UM MSBA - BGEN 623 - Alex McKenzie\n",
    "\n",
    "# Week 3 Instructor-led Lab: Temperature Conversion\n",
    "\n",
    "This code will convert temperatures for values provided in Celsius, Fahrenheit, and Kelvin.\n",
    "___\n",
    "\n",
    "## &#x1F321;Welcome to my temperture converter&#x1F321;\n",
    "\n",
    "### Create Variables"
   ]
  },
  {
   "cell_type": "code",
   "execution_count": 1,
   "id": "d87f9fdf-bf9c-4595-85b3-1fdd1a3fdee4",
   "metadata": {},
   "outputs": [],
   "source": [
    "celsius = 0.0\n",
    "fahrenheit = 0.0\n",
    "kelvin = 0.0"
   ]
  },
  {
   "cell_type": "markdown",
   "id": "2ce94128-f7b0-4fbd-965c-76bb4a37d5d5",
   "metadata": {},
   "source": [
    "### Get User Input"
   ]
  },
  {
   "cell_type": "code",
   "execution_count": 2,
   "id": "391673c1-1637-40ca-8b7d-2417b9b235b3",
   "metadata": {},
   "outputs": [
    {
     "name": "stdin",
     "output_type": "stream",
     "text": [
      "Please provide a value, in Celsius, to convert:\n",
      " -15\n"
     ]
    }
   ],
   "source": [
    "text = float(input(\"Please provide a value, in Celsius, to convert:\\n\"))"
   ]
  },
  {
   "cell_type": "code",
   "execution_count": 3,
   "id": "6a8aa3a9-e572-4b6d-8e33-d721341a4d35",
   "metadata": {},
   "outputs": [],
   "source": [
    "celsius = text"
   ]
  },
  {
   "cell_type": "markdown",
   "id": "658b193a-e9f8-4648-bef1-0610ee702c26",
   "metadata": {},
   "source": [
    "### Convert Celsius to Fahrenheit"
   ]
  },
  {
   "cell_type": "code",
   "execution_count": 4,
   "id": "87eecb1c-e45d-459f-b0d7-1282eb1f2215",
   "metadata": {},
   "outputs": [],
   "source": [
    "fahrenheit = (9 / 5) * celsius + 32"
   ]
  },
  {
   "cell_type": "markdown",
   "id": "edc1d9f3-3f15-47cd-80b0-331c33fac747",
   "metadata": {},
   "source": [
    "### Convert Celsius to Kelvin"
   ]
  },
  {
   "cell_type": "code",
   "execution_count": 5,
   "id": "7015c2f6-2aca-4a5f-babe-3d3528985a9d",
   "metadata": {},
   "outputs": [],
   "source": [
    "kelvin = celsius + 273.15"
   ]
  },
  {
   "cell_type": "markdown",
   "id": "ec4e1b1d-3b82-4908-b9c0-9c82e18743d8",
   "metadata": {},
   "source": [
    "### Display Conversion Results"
   ]
  },
  {
   "cell_type": "code",
   "execution_count": 6,
   "id": "f2fbbcb9-42b8-412e-bdb5-73799e1def44",
   "metadata": {},
   "outputs": [
    {
     "name": "stdout",
     "output_type": "stream",
     "text": [
      "-15.0 degrees Celsius is 5.0 degrees Fahrenheit which is 258.15 degrees Kelvin.\n"
     ]
    }
   ],
   "source": [
    "print(f\"{celsius} degrees Celsius is {fahrenheit} degrees Fahrenheit which is {kelvin} degrees Kelvin.\")"
   ]
  },
  {
   "cell_type": "markdown",
   "id": "74a58afa-78af-4136-94de-56ee2f05db5c",
   "metadata": {},
   "source": [
    "### Create Additional Variables"
   ]
  },
  {
   "cell_type": "code",
   "execution_count": 7,
   "id": "6b955b04-f5f7-435b-990c-5a047e53c0e0",
   "metadata": {
    "jupyter": {
     "source_hidden": true
    }
   },
   "outputs": [],
   "source": [
    "celsius_two = 0.0\n",
    "fahrenheit_two = 0.0\n",
    "kelvin_two = 0.0"
   ]
  },
  {
   "cell_type": "markdown",
   "id": "fe271024-bf55-4c51-9ed0-9052fb26ce19",
   "metadata": {},
   "source": [
    "### Get User Second Input"
   ]
  },
  {
   "cell_type": "code",
   "execution_count": 8,
   "id": "da20f611-2fa6-4206-b050-61631ed32ae6",
   "metadata": {},
   "outputs": [
    {
     "name": "stdin",
     "output_type": "stream",
     "text": [
      "Please provide a second set of value2, in Celsius, to convert:\n",
      " 25\n"
     ]
    }
   ],
   "source": [
    "text = float(input(\"Please provide a second set of value2, in Celsius, to convert:\\n\"))"
   ]
  },
  {
   "cell_type": "code",
   "execution_count": 9,
   "id": "ab163c90-50c3-409a-a537-a1a79266ffe1",
   "metadata": {},
   "outputs": [],
   "source": [
    "celsius_two = text"
   ]
  },
  {
   "cell_type": "code",
   "execution_count": 10,
   "id": "c390b2f8-fdea-4e96-b5f8-0e34e8bc3497",
   "metadata": {},
   "outputs": [],
   "source": [
    "fahrenheit_two = (9 / 5) * celsius + 32"
   ]
  },
  {
   "cell_type": "code",
   "execution_count": 11,
   "id": "8304dde0-95e3-4c63-b914-acf39929c4bb",
   "metadata": {},
   "outputs": [],
   "source": [
    "kelvin_two = celsius + 273.15"
   ]
  },
  {
   "cell_type": "markdown",
   "id": "f8bfb2f0-f053-4e1a-aa72-c1369d9ff04b",
   "metadata": {},
   "source": [
    "### Display Conversion Results"
   ]
  },
  {
   "cell_type": "code",
   "execution_count": 12,
   "id": "0ab5008c-31c0-4131-ae00-529446a6883f",
   "metadata": {},
   "outputs": [
    {
     "name": "stdout",
     "output_type": "stream",
     "text": [
      "Second set of values: 25.0 degrees Celsius is 5.0 degrees Fahrenheit which is 258.15 degrees Kelvin.\n"
     ]
    }
   ],
   "source": [
    "print(f\"Second set of values: {celsius_two} degrees Celsius is {fahrenheit_two} degrees Fahrenheit which is {kelvin_two} degrees Kelvin.\")"
   ]
  },
  {
   "cell_type": "markdown",
   "id": "47c38fc7-be4d-4d2b-ab43-d37b608881fc",
   "metadata": {},
   "source": [
    "### Comparing Temperatures"
   ]
  },
  {
   "cell_type": "code",
   "execution_count": 13,
   "id": "2e779cb7-ceb5-4fd9-b9f2-421f2e6603bb",
   "metadata": {},
   "outputs": [],
   "source": [
    "# Celsius"
   ]
  },
  {
   "cell_type": "code",
   "execution_count": 14,
   "id": "0c0062c2-d07f-49a4-95a2-f1d6efc24b45",
   "metadata": {},
   "outputs": [
    {
     "name": "stdout",
     "output_type": "stream",
     "text": [
      "The original Celsius value of -15.0 is smaller than the new value of 25.0.\n"
     ]
    }
   ],
   "source": [
    "if celsius > celsius_two:\n",
    "    print(f\"The original Celsius value of {celsius} is larger than the new value of {celsius_two}.\")\n",
    "elif celsius < celsius_two:\n",
    "    print(f\"The original Celsius value of {celsius} is smaller than the new value of {celsius_two}.\")\n",
    "else:\n",
    "    print(f\"The original Celsius value of {celsius} equals the new value of {celsius_two}.\")\n"
   ]
  },
  {
   "cell_type": "code",
   "execution_count": 15,
   "id": "1132389e-c2c8-49c2-909c-b419821904b1",
   "metadata": {},
   "outputs": [],
   "source": [
    "# Fahrenheit"
   ]
  },
  {
   "cell_type": "code",
   "execution_count": 16,
   "id": "30433b7b-17ed-4f91-8519-0115ebe34a40",
   "metadata": {},
   "outputs": [
    {
     "name": "stdout",
     "output_type": "stream",
     "text": [
      "The original Fahrenheit value of 5.0 is greater than or equal to the new value of 5.0.\n"
     ]
    }
   ],
   "source": [
    "if fahrenheit >= fahrenheit_two:\n",
    "    print(f\"The original Fahrenheit value of {fahrenheit} is greater than or equal to the new value of {fahrenheit_two}.\")\n",
    "else:\n",
    "    print(f\"The original Fahrenheit value of {fahrenheit} is smaller than the new value of {fahrenheit_two}.\")"
   ]
  },
  {
   "cell_type": "code",
   "execution_count": 17,
   "id": "95e382df-80a3-4a0c-8432-5951d27df911",
   "metadata": {},
   "outputs": [],
   "source": [
    "# Kelvin"
   ]
  },
  {
   "cell_type": "code",
   "execution_count": 18,
   "id": "d03a0987-5c0b-4b1d-a7b2-eadf8ef43051",
   "metadata": {},
   "outputs": [
    {
     "name": "stdout",
     "output_type": "stream",
     "text": [
      "The original Kelvin value of 258.15 is less than or equal to the new value of 258.15.\n"
     ]
    }
   ],
   "source": [
    "if kelvin <= kelvin_two:\n",
    "    print(f\"The original Kelvin value of {kelvin} is less than or equal to the new value of {kelvin_two}.\")\n",
    "else:\n",
    "    print(f\"The original Kelvin value of {kelvin} is greater than the new value of {kelvin_two}.\")"
   ]
  },
  {
   "cell_type": "markdown",
   "id": "ee7ca09a-9342-4a1f-a85f-09d7b5a7a6c4",
   "metadata": {},
   "source": [
    "# Comparison 1: Celsius and Celsius Two"
   ]
  },
  {
   "cell_type": "code",
   "execution_count": 20,
   "id": "4f1d6ac7-548e-41fb-a820-e38157994cba",
   "metadata": {},
   "outputs": [
    {
     "name": "stdout",
     "output_type": "stream",
     "text": [
      "The original Celsius value of -15.0 is smaller than the new value of 25.0.\n"
     ]
    }
   ],
   "source": [
    "# Celsius\n",
    "if celsius > celsius_two:\n",
    "    print(f\"The original Celsius value of {celsius} is larger than the new value of {celsius_two}.\")\n",
    "elif celsius < celsius_two:\n",
    "    print(f\"The original Celsius value of {celsius} is smaller than the new value of {celsius_two}.\")\n",
    "elif celsius == celsius_two:\n",
    "    print(f\"The original celsius value of {celsius} is equal to the new value of {celsius_two}.\")"
   ]
  },
  {
   "cell_type": "markdown",
   "id": "16e8ba92-b13f-4e30-8a25-1da994b5532b",
   "metadata": {},
   "source": [
    "# Comparison 2: Fahrenheit and Fahrenheit Two"
   ]
  },
  {
   "cell_type": "code",
   "execution_count": 22,
   "id": "1214de44-9ea8-46a6-a18e-c65bfa76c126",
   "metadata": {},
   "outputs": [
    {
     "name": "stdout",
     "output_type": "stream",
     "text": [
      "The original Fahrenheit value of 5.0 is greater than or equal to the new value of 5.0.\n"
     ]
    }
   ],
   "source": [
    "# Fahrenheit\n",
    "if fahrenheit >= fahrenheit_two:\n",
    "    print(f\"The original Fahrenheit value of {fahrenheit} is greater than or equal to the new value of {fahrenheit_two}.\")\n",
    "\n",
    "elif fahrenheit < fahrenheit_two:\n",
    "    print(f\"The original Fahrenheit value of {fahrenheit} is smaller than the new value of {fahrenheit_two}.\")\n",
    "\n",
    "elif fahrenheit == fahrenheit_two:\t\n",
    "    print(f\"The original Fahrenheit value of {fahrenheit} is equal to {fahrenheit_two}.\")"
   ]
  },
  {
   "cell_type": "markdown",
   "id": "1244687b-107c-4acd-92ab-8dc513573ea8",
   "metadata": {},
   "source": [
    "# Comparison 3: Kelvin and Kelvin Two"
   ]
  },
  {
   "cell_type": "code",
   "execution_count": 23,
   "id": "b882df19-2400-4ba4-8da2-294e12b9f13c",
   "metadata": {},
   "outputs": [
    {
     "name": "stdout",
     "output_type": "stream",
     "text": [
      "The original Kelvin value of 258.15 is less than or equal to the new value of 258.15.\n"
     ]
    }
   ],
   "source": [
    "# Kelvin\n",
    "if kelvin <= kelvin_two:\n",
    "    print(f\"The original Kelvin value of {kelvin} is less than or equal to the new value of {kelvin_two}.\")\n",
    "elif kelvin < kelvin_two:\n",
    "    print(f\"The original Kelvin value of {kelvin} is smaller than the new value of {kelvin_two}.\")\n",
    "elif kelvin != kelvin_two:\n",
    "    print(f\"The original Kelvin value of {kelvin} is not equal to the new value of {kelvin_two}.\")"
   ]
  },
  {
   "cell_type": "code",
   "execution_count": 24,
   "id": "315f1851-914f-4ff4-8615-ac01e60ba7d9",
   "metadata": {},
   "outputs": [
    {
     "name": "stdout",
     "output_type": "stream",
     "text": [
      "celsius == celsius_two and fahrenheit < fahrenheit_two\n",
      "Python lies.\n",
      "celsius == celsius_two or kelvin != kelvin_two\n",
      "Python lies.\n"
     ]
    }
   ],
   "source": [
    "logical_outputs = []\n",
    "\n",
    "logical_outputs.append(\"celsius == celsius_two and fahrenheit < fahrenheit_two\")\n",
    "if celsius == celsius_two and fahrenheit < fahrenheit_two:\n",
    "    logical_outputs.append(\"Python speaks the truth!\")\n",
    "else:\n",
    "    logical_outputs.append(\"Python lies.\")\n",
    "\n",
    "logical_outputs.append(\"celsius == celsius_two or kelvin != kelvin_two\")\n",
    "if celsius == celsius_two or kelvin != kelvin_two:\n",
    "    logical_outputs.append(\"Python speaks the truth!\")\n",
    "else:\n",
    "    logical_outputs.append(\"Python lies.\")\n",
    "\n",
    "print(\"\\n\".join(logical_outputs))"
   ]
  },
  {
   "cell_type": "markdown",
   "id": "2d01fbaa-89a3-4dd8-bb7a-1e70bb8c5a3d",
   "metadata": {},
   "source": [
    "# I used ChatGPT o3-mini-high this week. I have pushed a PDF of the chat to my fork via GitHub. -Alex"
   ]
  }
 ],
 "metadata": {
  "kernelspec": {
   "display_name": "Python 3 (ipykernel)",
   "language": "python",
   "name": "python3"
  },
  "language_info": {
   "codemirror_mode": {
    "name": "ipython",
    "version": 3
   },
   "file_extension": ".py",
   "mimetype": "text/x-python",
   "name": "python",
   "nbconvert_exporter": "python",
   "pygments_lexer": "ipython3",
   "version": "3.12.7"
  }
 },
 "nbformat": 4,
 "nbformat_minor": 5
}
